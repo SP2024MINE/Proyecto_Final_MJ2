{
 "cells": [
  {
   "cell_type": "markdown",
   "metadata": {},
   "source": [
    "Construcción del formulario"
   ]
  },
  {
   "cell_type": "markdown",
   "metadata": {},
   "source": [
    "A continuación se procede a construir un formulario en Streamlit para capturar todas las variables requeridas para el modelo."
   ]
  },
  {
   "cell_type": "code",
   "execution_count": null,
   "metadata": {},
   "outputs": [],
   "source": [
    "import streamlit as st\n",
    "import pandas as pd\n",
    "import requests\n",
    "\n",
    "# Definir la URL de la API (esto debe reemplazarse con la URL real de la API)\n",
    "api_url = \"https://github.com/uci-ml-repo/ucimlrepo\"\n",
    "\n",
    "st.title(\"Formulario de Datos para el Modelo\")\n",
    "\n",
    "# Campos numéricos\n",
    "age = st.number_input(\"Edad:\", min_value=0, max_value=120)\n",
    "capital_gain = st.number_input(\"Ganancia de capital:\", min_value=0)\n",
    "capital_loss = st.number_input(\"Pérdida de capital:\", min_value=0)\n",
    "hours_per_week = st.number_input(\"Horas trabajadas por semana:\", min_value=0, max_value=168)\n",
    "\n",
    "# Campos categóricos con selectores\n",
    "workclass = st.selectbox(\"Clase de trabajo:\", [\"Private\", \"Self-emp-not-inc\", \"Self-emp-inc\", \"Federal-gov\", \n",
    "                                               \"Local-gov\", \"State-gov\", \"Without-pay\", \"Never-worked\"])\n",
    "education = st.selectbox(\"Nivel educativo:\", [\"Bachelors\", \"Some-college\", \"11th\", \"HS-grad\", \"Prof-school\", \n",
    "                                              \"Assoc-acdm\", \"Assoc-voc\", \"9th\", \"7th-8th\", \"12th\", \"Masters\", \n",
    "                                              \"1st-4th\", \"10th\", \"Doctorate\", \"5th-6th\", \"Preschool\"])\n",
    "marital_status = st.selectbox(\"Estado civil:\", [\"Married-civ-spouse\", \"Divorced\", \"Never-married\", \n",
    "                                                \"Separated\", \"Widowed\", \"Married-spouse-absent\", \"Married-AF-spouse\"])\n",
    "occupation = st.selectbox(\"Ocupación:\", [\"Tech-support\", \"Craft-repair\", \"Other-service\", \"Sales\", \"Exec-managerial\", \n",
    "                                         \"Prof-specialty\", \"Handlers-cleaners\", \"Machine-op-inspct\", \"Adm-clerical\", \n",
    "                                         \"Farming-fishing\", \"Transport-moving\", \"Priv-house-serv\", \"Protective-serv\", \n",
    "                                         \"Armed-Forces\"])\n",
    "relationship = st.selectbox(\"Relación familiar:\", [\"Wife\", \"Own-child\", \"Husband\", \"Not-in-family\", \n",
    "                                                   \"Other-relative\", \"Unmarried\"])\n",
    "race = st.selectbox(\"Raza:\", [\"White\", \"Asian-Pac-Islander\", \"Amer-Indian-Eskimo\", \"Other\", \"Black\"])\n",
    "sex = st.selectbox(\"Sexo:\", [\"Male\", \"Female\"])\n",
    "native_country = st.selectbox(\"País de origen:\", [\"United-States\", \"Cambodia\", \"England\", \"Puerto-Rico\", \"Canada\", \n",
    "                                                  \"Germany\", \"Outlying-US(Guam-USVI-etc)\", \"India\", \"Japan\", \"Greece\", \n",
    "                                                  \"South\", \"China\", \"Cuba\", \"Iran\", \"Honduras\", \"Philippines\", \"Italy\", \n",
    "                                                  \"Poland\", \"Jamaica\", \"Vietnam\", \"Mexico\", \"Portugal\", \"Ireland\", \n",
    "                                                  \"France\", \"Dominican-Republic\", \"Laos\", \"Ecuador\", \"Taiwan\", \n",
    "                                                  \"Haiti\", \"Columbia\", \"Hungary\", \"Guatemala\", \"Nicaragua\", \"Scotland\", \n",
    "                                                  \"Thailand\", \"Yugoslavia\", \"El-Salvador\", \"Trinadad&Tobago\", \n",
    "                                                  \"Peru\", \"Hong\", \"Holand-Netherlands\"])\n",
    "\n",
    "# Mostrar los datos capturados\n",
    "if st.button(\"Mostrar datos\"):\n",
    "    st.write(\"Datos capturados:\")\n",
    "    st.write(f\"Edad: {age}\")\n",
    "    st.write(f\"Clase de trabajo: {workclass}\")\n",
    "    st.write(f\"Nivel educativo: {education}\")\n",
    "    st.write(f\"Estado civil: {marital_status}\")\n",
    "    st.write(f\"Ocupación: {occupation}\")\n",
    "    st.write(f\"Relación familiar: {relationship}\")\n",
    "    st.write(f\"Raza: {race}\")\n",
    "    st.write(f\"Sexo: {sex}\")\n",
    "    st.write(f\"Ganancia de capital: {capital_gain}\")\n",
    "    st.write(f\"Pérdida de capital: {capital_loss}\")\n",
    "    st.write(f\"Horas trabajadas por semana: {hours_per_week}\")\n",
    "    st.write(f\"País de origen: {native_country}\")\n"
   ]
  }
 ],
 "metadata": {
  "kernelspec": {
   "display_name": "Ambiente1",
   "language": "python",
   "name": "python3"
  },
  "language_info": {
   "codemirror_mode": {
    "name": "ipython",
    "version": 3
   },
   "file_extension": ".py",
   "mimetype": "text/x-python",
   "name": "python",
   "nbconvert_exporter": "python",
   "pygments_lexer": "ipython3",
   "version": "3.13.0"
  }
 },
 "nbformat": 4,
 "nbformat_minor": 2
}
